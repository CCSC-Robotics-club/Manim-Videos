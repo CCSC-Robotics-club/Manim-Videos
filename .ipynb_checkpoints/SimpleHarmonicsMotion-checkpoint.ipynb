{
 "cells": [
  {
   "cell_type": "code",
   "execution_count": 1,
   "id": "a6c0b121",
   "metadata": {},
   "outputs": [
    {
     "data": {
      "text/html": [
       "<pre style=\"white-space:pre;overflow-x:auto;line-height:normal;font-family:Menlo,'DejaVu Sans Mono',consolas,'Courier New',monospace\">Manim Community <span style=\"color: #008000; text-decoration-color: #008000\">v0.17.2</span>\n",
       "\n",
       "</pre>\n"
      ],
      "text/plain": [
       "Manim Community \u001b[32mv0.\u001b[0m\u001b[32m17.2\u001b[0m\n",
       "\n"
      ]
     },
     "metadata": {},
     "output_type": "display_data"
    }
   ],
   "source": [
    "from manim import *\n",
    "\n",
    "config.media_width = \"75%\"\n",
    "config.verbosity = \"WARNING\""
   ]
  },
  {
   "cell_type": "code",
   "execution_count": 69,
   "id": "bb9d1d9f",
   "metadata": {},
   "outputs": [
    {
     "name": "stderr",
     "output_type": "stream",
     "text": [
      "                                                                                                                       \r"
     ]
    },
    {
     "name": "stdout",
     "output_type": "stream",
     "text": [
      "1.0833333333333333\n"
     ]
    },
    {
     "data": {
      "text/html": [
       "<video src=\"media\\jupyter\\DrawMassSpringModel@2023-02-23@18-15-32.mp4\" controls autoplay loop style=\"max-width: 75%;\"  >\n",
       "      Your browser does not support the <code>video</code> element.\n",
       "    </video>"
      ],
      "text/plain": [
       "<IPython.core.display.Video object>"
      ]
     },
     "metadata": {},
     "output_type": "display_data"
    }
   ],
   "source": [
    "%%manim -qm DrawMassSpringModel\n",
    "import math\n",
    "\n",
    "class DrawMassSpringModel(Scene):\n",
    "    def construct(self):\n",
    "        # add a mass block and its lable\n",
    "        mass_brick = Rectangle(color=BLUE, fill_opacity=0.8, width = 1, height = 0.8)\n",
    "        mass_lable = Text(\"m\")\n",
    "        mass = VGroup(mass_brick, mass_lable)\n",
    "        self.play(Create(mass_brick))\n",
    "        self.play(FadeIn(mass_lable))\n",
    "        \n",
    "        # add a spring\n",
    "        # draw the spring using a simple parametric function\n",
    "        spring = ParametricFunction(\n",
    "            lambda t: np.array([\n",
    "                np.sin(20.3*t) + 4.5*t,\n",
    "                np.cos(20.3*t),\n",
    "                0,\n",
    "            ])\n",
    "        )\n",
    "        # stick the spring to the mass\n",
    "        spring.next_to(mass_brick, LEFT)\n",
    "        spring.shift(RIGHT*0.2)\n",
    "        # play the animation\n",
    "        self.play(Create(spring))\n",
    "        self.wait()\n",
    "        \n",
    "        self.play(spring.animate.stretch(\n",
    "                factor=0.5, dim=0, about_edge=LEFT)\n",
    "        )\n",
    "        \n",
    "        # add a value tracker to make the spring stick to the object\n",
    "        # add a value tracker to track the position of the beick\n",
    "        mass_position_x = ValueTracker(0) # from -6 to 6\n",
    "        # add updaters to make the sping and brick shift according to the value tracker\n",
    "        def calculate_spring_scaling_factor(mass_position_x:float) -> float:\n",
    "            # returns the scaling factor of the spring to make it stick to the brick, given the brick's position\n",
    "            absolute_position = mass_position_x + 6\n",
    "            scaling_factor = absolute_position / 6\n",
    "            return scaling_factor\n",
    "        spring.add_updater(\n",
    "            lambda spring: spring.stretch(\n",
    "                factor=calculate_spring_scaling_factor(mass_position_x = mass_position_x.get_value()),\n",
    "                dim=0,\n",
    "                about_edge=LEFT))\n",
    "        mass.add_updater(\n",
    "            lambda mass: mass.move_to(RIGHT * mass_position_x.get_value())\n",
    "        )\n",
    "        self.play(mass_position_x.animate.set_value(0.5))\n",
    "        print(calculate_spring_scaling_factor(mass_position_x = mass_position_x.get_value()))\n",
    "        self.wait()"
   ]
  },
  {
   "cell_type": "code",
   "execution_count": null,
   "id": "990f93f3",
   "metadata": {},
   "outputs": [],
   "source": []
  },
  {
   "cell_type": "code",
   "execution_count": null,
   "id": "73eb209a",
   "metadata": {},
   "outputs": [],
   "source": []
  }
 ],
 "metadata": {
  "kernelspec": {
   "display_name": "Python 3 (ipykernel)",
   "language": "python",
   "name": "python3"
  },
  "language_info": {
   "codemirror_mode": {
    "name": "ipython",
    "version": 3
   },
   "file_extension": ".py",
   "mimetype": "text/x-python",
   "name": "python",
   "nbconvert_exporter": "python",
   "pygments_lexer": "ipython3",
   "version": "3.9.13"
  }
 },
 "nbformat": 4,
 "nbformat_minor": 5
}
